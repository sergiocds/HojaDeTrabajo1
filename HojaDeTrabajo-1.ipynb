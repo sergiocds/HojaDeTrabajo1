{
 "cells": [
  {
   "attachments": {},
   "cell_type": "markdown",
   "metadata": {},
   "source": [
    "---\n",
    "# Hoja de Trabajo # 1 - Jupyter Notebooks, Markdown y Git\n",
    "---\n",
    "##### *Sergio Josué Castillo Custodio, Carnet: 23000331*"
   ]
  },
  {
   "attachments": {},
   "cell_type": "markdown",
   "metadata": {},
   "source": [
    "## Introducción"
   ]
  },
  {
   "attachments": {},
   "cell_type": "markdown",
   "metadata": {},
   "source": [
    "Los sistemas de control de versión (*VCS*, por sus siglas en inglés) son herramientas que han sido desarrolladas, como su nombre lo indica, para llevar un seguimiento ordenado de los cambios realizados y las distintas versiones de código fuente u otras colecciones de archivos y carpetas. Estas herramientas cumplen dos funciones fundamentales:\n",
    "\n",
    "* Desarrollar un historial de los cambios realizados\n",
    "* Facilitar la colaboración en equipos trabajando en un mismo proyecto\n",
    "\n",
    "El principio básico para el control de cambios o versiones en los archivos que son objeto de una herramienta de este tipo es la creación de una serie de *fotografías* o *snapshots*, donde cada una de ellas captura el estado completo de todos los archivos y carpetas dentro de un directorio. Simultaneamente, los VCS registran metadatos que complementan el historial, como quien creo cada *snapshot*, comentarios descriptivos de cada uno, entre otros.\n",
    "\n",
    "El contar con un control de versiones permite poseer un historial del desarrollo de un proyecto y poder consultar versiones o *snapshots* antiguos en cualquier momento; mantener un registro de los cambios realizados y la razón de ellos, trabajar de forma simultanea en múltiples líneas de desarrollo de forma simultanea; y trabajar de forma colaborativa con otros desarrolladores en el mismo proyecto, separando e integrando el trabajo de cada uno, todo mientras se mantiene un record de lo que se trabaja de forma independiente que ayuda a implementaciones y resolución de conflictos más agiles.\n",
    "\n",
    "Los sistemas de control de versiones han recorrido un gran camino en su evolución. Desde versiones locales tan simples como copiar archivos en un directorio destinado a crear un historial, pasando por bases de datos de versiones locales, a sistemas centralizados hasta llegar a los sistemas modernos Distribuidos, tales como Git, Mercurial, Bazaar o Darcs.\n",
    "\n",
    "El VCS más conocido es Git. Aunque su interfaz no es la más amigable y se trata de una herramienta muy extensa en funciones y opciones a nivel avanzado, su uso y compresión general parten de entender su modelo de datos, el cual representa su principal ventaja competitiva respecto a otros VCS."
   ]
  },
  {
   "attachments": {},
   "cell_type": "markdown",
   "metadata": {},
   "source": [
    "## Módelo de Datos de Git"
   ]
  },
  {
   "attachments": {},
   "cell_type": "markdown",
   "metadata": {},
   "source": [
    "El módelo de datos de Git es una de sus principales ventajas en comparación con otros VCS, ya que permite aprovechar lo más posible las características deseadas del control de versiones, tales como:\n",
    "\n",
    "1. Creación de historial\n",
    "2. Ramas (*branches*) de trabajo\n",
    "3. Colaboración en equipos de trabajo\n",
    "\n",
    "Este modelo de datos define objetos y referencias propios de Git, que se describen a continuación.\n",
    "\n",
    "El objetivo es dar seguimiento a una colección de archivos y carpetas. En terminología de Git, estos archivos y carpetas son los objetos más elementales de la estructura de datos y son denominados **Blobs** (un conjunto de bytes). \n",
    "\n",
    "Los Blobs son organizados en directorios. Un directorio \"mapea\" los distintos blobs, y se denomina **Tree**. Un Tree también puede contener otros Trees, o directorios. Esta estructura se puede repetir de manera indefinida dentro de cada Tree.\n",
    "\n",
    "Por encima de todos los Blobs y Trees que conforman la colección de archivos y carpetas, existe un directorio (Tree) de nivel superior, que incluye a todos los Blobs y Trees inferiores, denominado **Snapshot** o **Commit**.\n",
    "\n",
    "La **Figura 1** muestra la estructura de un Snapshot muy simple.\n",
    "  \n",
    "![Figura 1](https://4.bp.blogspot.com/-jMJmo_Imyfo/Xl5JNRga9cI/AAAAAAAAAXA/_PzR3CPGpPkMuhQ1SEWV0D-qnv0WFzn6ACK4BGAYYCw/s1600/1.tree.png)\n",
    "  \n",
    "**Figura 1**. Nota: Recuperado de *Las entrañas de un repo GIT: Tree*. [Las entrañas de un repo GIT: Tree](https://www.flu-project.com/2020/03/las-entranas-de-un-repo-git-tree.html).\n",
    "  \n",
    "El modelado del historial de los cambios, versiones y evolución de un Snapshot, se realiza a través de una serie de los mismos. En otras palabras, el historial es una serie de Commits. La primera impresión al leer esto sería que la historia es una secuencia lineal de Commits, ordenados de forma temporal.\n",
    "\n",
    "Sin embargo, Git eleva el modelado del historial bajo el concepto de gráfica dirigida aciclica (*Directed Acyclic Graph, DAG*), que significa que cada Commit/Snapshot esta relacionado a un conjunto de \"Padres\", o Snapshots que lo preceden temporalmente. Se dice que es un conjunto de padres y no solo uno (como sucederia si se tratara un modelo lineal) ya que un Snapshot puede descender de múltiples Snapshots previos. Este modelo no líneal crea otro concepto, el de Branch, que no son más que líneas paralelas de desarrollo, que surgen cuando un Commit se deriva en algún momento y sigue su propia evolución. Cada Branch se volver a dividir, o fusionar (Merge) hasta volver a la línea de desarrollo original, que en Git comunmente se denomina Main. En consecuencia, la evolución historica de un Commit es como se puede apreciar en la **Figura 2**.\n",
    "\n",
    "![Figura 2](https://i.stack.imgur.com/BzDw5.png)\n",
    "  \n",
    "**Figura 2**. Nota: Recuperado de What sequence of Git commands could have resulted in this commit graph. [What sequence of Git commands could have resulted in this commit graph] (https://stackoverflow.com/questions/62986266/what-sequence-of-git-commands-could-have-resulted-in-this-commit-graph).\n",
    "  \n",
    "En la **Figura 2**, el Commit identificado como *e047b43* surge del merge de dos commits previos (Commits padres), *73e170d* y *889a8ac*. A partir del Commit *9359569* la historia se separa en dos Branches. El Commit *e047b43* incorpora las características de sus dos Commits padres a través de la operación Merge. En la práctica pueden surgir conflictos al fusionar Commits, los cuales son resueltos por el desarrollador, lo cual puede ser de forma manual o automatizarse hasta cierto punto a través de opciones de Git.\n",
    "\n",
    "Los Commits son inmutables. Esto significa que no varían en el tiempo. Las ediciones o modificaciones de los mismos crean nuevos commits y relaciones entre ellos, que se van actualizando con el tiempo.\n",
    "\n",
    "## Referencias\n",
    "\n",
    "Las estructuras de datos discutidas hasta el momento (Blobs, Trees y Commits) todas son **objetos**. Entre ellos están conectados a través de referencias. Es decir, los Trees y Commits no contienen otros elementos como tales, solamente hacen referencia a ellos. Estas referencias son hechas por medio de su función hash SHA-1, que genera códigos hexadecimales únicos para cada elemento.\n",
    "\n",
    "Por ejemplo, la referencia SHA-1 para un objeto en Git puede ser como la siguiente: *698281bc680d1995c5f4caaf3359721a5a58d48d*\n",
    "\n",
    "En consecuencia cada objeto, como por ejemplo un Commit, puede ser identificado por su hash SHA-1. A nivel de estructura de datos esto es efectivo, sin embargo para fines de lectura esto no es práctico. La solución es la representación de los hash SHA-1 a través de referencias, que son punteros hacia los objetos. \n",
    "\n",
    "Con la evolución de los Commits a lo largo del tiempo, que son inmutables, las referencias son actualizadas, para apuntar a nuevos Commits. Por ejemplo, la referencia Master usualmente apunta al último commint en la rama Main o principal de desarrollo. Así, un Commit es inmutable, pero la referencia si lo es. Otro término utilizado para referencia a un Commit específico es el de *HEAD*, que se refiere al punto en el que *actualmente nos encontramos*.\n",
    "\n",
    "## Repositorios\n",
    "\n",
    "Un repositorio en la práctica es referido como una \"super\" carpeta. Aunque técnicamente esta definición no es correcta, si provee una idea acertada de lo que un repositorio es: Es la agrupación de los objetos y referencias.\n",
    "\n",
    "# Área de Staging\n",
    "\n",
    "El área de Staging en Git es una etapa que ocurre antes de que un Snapshot o Commit se incorpore al historial de un repositorio. A través del mismo se tiene la opción de elegir que cambios se desean incorporar en el Snapshot. Es parte de la interfaz de Git y permite ir agregando Commits limpios al historial, incluyendo solo los cambios que se elijan."
   ]
  },
  {
   "attachments": {},
   "cell_type": "markdown",
   "metadata": {},
   "source": [
    "# Comandos de Git\n",
    "\n",
    "En las siguientes tablas se muestran los comandos más comunes de Git\n",
    "\n",
    "## Básicos\n",
    "|Comando |Explicación|\n",
    "|:-----|:----:|\n",
    "|git help <command> |Proporciona información de ayuda sobre un comando |\n",
    "|git init |Crea un nuevo repositorio, con los datos almacenados en el directorio .git |\n",
    "|git status |Indica el Status actual |\n",
    "|git add <filename> |Agrega un archivo al área de staging |\n",
    "|git commit |Crea un nuevo commit |\n",
    "|git log |Muestra el registro del historial en un formato plano |\n",
    "|git log --all --graph --decorate |Muestra el historial en formato DAG |\n",
    "|git diff <filename> |Muestra los cambios hechos relativos al área de staging |\n",
    "|git diff <revision> <filename> |Muestra la diferencia en un archivo entre Snapshots |\n",
    "|git checkout <revision> |Actualiza el Commit HEAD y el branch actual |\n",
    "  \n",
    "## Branch y Merge\n",
    "|Comando |Explicación|\n",
    "|:-----|:----:|\n",
    "|git branch |Muestra el listado de ramas/branches |\n",
    "|git branch <name> |Crea un branch con el nombre específicado |\n",
    "|git checkout -b <name> |Crea un branch y la elije como actual |\n",
    "|git merge <revision> |Mezcla ramas/branches |\n",
    "|git mergetool |Utiliza herramientas de Git para resolver conflictos originados con un merge |\n",
    "\n",
    "## Remoto\n",
    "|Comando |Explicación|\n",
    "|:-----|:----:|\n",
    "|git remote |Muestra una lista de repositorios remotos |\n",
    "|git remote add <name> <url> |Agrega un repositorio remoto |\n",
    "|git push <remote> <local branch>:<remote branch> |Envía objetos a un repositorio remoto y actualiza las referencias |\n",
    "|git branch --set-upstream-to=<remote>/<remote branch> |Establece correspondencia entre ramas locales y remotas |\n",
    "|git fetch |Recupera objetos/referencias de un repositorio remoto |\n",
    "|git pull |Combinación de git fetch; git merge |\n",
    "|git clone |Descarga un repositorio remoto |"
   ]
  },
  {
   "attachments": {},
   "cell_type": "markdown",
   "metadata": {},
   "source": [
    "# Ejemplos\n",
    "\n",
    "A continuación se detallan los comandos que se requerirían para colocar el presente Notebook de Jupyter en un repositorio en Github.\n",
    "\n",
    "git init\n",
    "\n",
    "git add README.md\n",
    "\n",
    "git add HojaDeTrabajo-1.ipynb\n",
    "\n",
    "git commit -m \"notebook first commit\" \n",
    "\n",
    "git remote add origin https://github.com/sergiocds/HojaDeTrabajo1.git\n",
    "\n",
    "git push -u origin master\n"
   ]
  },
  {
   "cell_type": "markdown",
   "metadata": {},
   "source": [
    "---\n",
    "\n",
    "Con las definiciones de objetos y referencias, resulta útil recordar que Git almacena objetos y referencias. En eso se resume su modelo de datos. Los comandos que se ejecutan, registran la manipulación de los Commits agregando objetos y agregando o actualizando referencias. Un ejercicio que potencializa la comprensión de lo que sucede en Git al momento de ejecutar sus comandos, es tener en mente la manipulación o cambios que el comando está realizando a la gráfica de la estructura de datos subyacente en un repositorio.\n",
    "\n",
    "Las herramientas de control de versiones están lo suficientemente desarroladas para proporcionar opciones suficientes para la ejecución de proyectos de gran magnitud, que evolucionen a lo largo del tiempo y de forma colaborativa."
   ]
  }
 ],
 "metadata": {
  "kernelspec": {
   "display_name": "Python 3",
   "language": "python",
   "name": "python3"
  },
  "language_info": {
   "codemirror_mode": {
    "name": "ipython",
    "version": 3
   },
   "file_extension": ".py",
   "mimetype": "text/x-python",
   "name": "python",
   "nbconvert_exporter": "python",
   "pygments_lexer": "ipython3",
   "version": "3.10.4"
  },
  "orig_nbformat": 4,
  "vscode": {
   "interpreter": {
    "hash": "aee8b7b246df8f9039afb4144a1f6fd8d2ca17a180786b69acc140d282b71a49"
   }
  }
 },
 "nbformat": 4,
 "nbformat_minor": 2
}
